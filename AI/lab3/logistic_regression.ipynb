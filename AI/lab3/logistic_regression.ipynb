{
  "nbformat": 4,
  "nbformat_minor": 0,
  "metadata": {
    "colab": {
      "name": "Копия блокнота \"logistic_regression.ipynb\"",
      "provenance": [],
      "collapsed_sections": []
    },
    "kernelspec": {
      "name": "python3",
      "display_name": "Python 3"
    },
    "language_info": {
      "name": "python"
    }
  },
  "cells": [
    {
      "cell_type": "markdown",
      "metadata": {
        "id": "mxImKw1UhQl7"
      },
      "source": [
        "<a href=\"https://colab.research.google.com/github/YKochura/ai-lab/blob/main/lab3/logistic_regression.ipynb\" target=\"_parent\"><img src=\"https://colab.research.google.com/assets/colab-badge.svg\" alt=\"Open In Colab\"/></a>"
      ]
    },
    {
      "cell_type": "markdown",
      "metadata": {
        "id": "q2XBnP5_Z0pD"
      },
      "source": [
        "**Логістична регресія** &mdash; статистичний регресійний метод, який застосовують для задач бінарної класифікації, тобто, коли модель має віднести вихідне значення (прогноз) до однієї з двох категорій: `0` або `1`. \n",
        "\n",
        "Наприклад, ми можемо за допомогою логістичної регресії передбачити результат складання студентом / студенткою екзамену з цього предмету `{здасть (1) / не здасть (0)}`, використовуючи інформацію про те, скільки часу було витрачено студентом / студенткою на проєкт, скільки лекцій відвідано, скільки практичних здано на оцінку > 7 балів, тощо. Або ж ми можемо за допомогою логістичної моделі класифікувати зображення на дві категорії, наприклад, `кіт (1)` або `собака (0)`.\n",
        " "
      ]
    },
    {
      "cell_type": "markdown",
      "metadata": {
        "id": "b_Lh31rnBI5b"
      },
      "source": [
        "# Модель логістичної регресії\n",
        "\n",
        "Логістичну регресію можна розглядати як одношарову нейронну мережу, яка складається з одного нелінійного нейрона.\n",
        "\n",
        "![](https://docs.google.com/uc?export=download&id=1Abx7cOwNEV0CcFHRVo4XqKMfhgBZeUdS)\n",
        "\n",
        "Метод логістичної регресії заснований на лiнiйнiй регресiї, оскільки використовується однаковий підхід: знаходження лінійної комбінації вхідних ознак (зважена сума) з урахуванням зміщення. Основна віднність між цими методами полягає у тому, що у логістичній регресії до зваженої суми вхідних ознак та зміщення, що фактично є вихідним значенням лінійної регресії, застосовується сигмоїдна функцiя активації, яка перетворює вихiд лiнiйної моделі у вихід логістичної регресії. Іншими словами, вихід (прогноз) логістичної регресії представляє собою дійсне значення, яке лежить у діапазоні вiд 0 до 1 ($\\hat y \\in [0, 1]$). Це значення можна iнтерпретувати як ймовiрнiсть приналежності вхідних даних до певного класу (0 або 1): \n",
        "\n",
        "$$p(y = 1 | z) = \\hat y = \\sigma(z) = g(z) = \\frac{1}{1 + \\exp{(-z)}} $$\n",
        "\n",
        "У випадку, коли нейрон є лінійним, тобто, коли відсутня нелінійна функція активації, тоді на виході отримуємо $\\hat y = z$, що є просто вихідним значення лінійної регресії. \n",
        "\n",
        "## Функції активації\n",
        "Нижче подано деякі загальновживані функції активації (усі нелінійні), які часто використовуються у нейронних мережах.\n",
        "\n",
        "![](https://docs.google.com/uc?export=download&id=1jNGnPUyKH7SoQton8bWAHhmKHkuLtLr4)"
      ]
    },
    {
      "cell_type": "markdown",
      "metadata": {
        "id": "sfQwoDlx-YHi"
      },
      "source": [
        "За характером навчальних даних, метод логістичної регресії відносить до контрольованого навчання (навчання з учителем). Тобто, для кожного прикладу з навчального набору даних заздалегідь підготовлена мітка (label), яка показує приналежніть цих прикладів певного класу.\n",
        "\n",
        "**Дано:**\n",
        "\n",
        "- Навчальний набір: $\\{(\\boldsymbol{X}^{(1)}, y^{(1)}), (\\boldsymbol{X}^{(2)}, y^{(2)}),..., (\\boldsymbol{X}^{(n)}, y^{(n)})\\}$\n",
        "\n",
        "  - де $\\boldsymbol{X}^{(i)}$ &mdash;  $i$-й навчальний приклад. Є $m$-вимірним вектором-стовпцем $\\boldsymbol{X}^{(i)} = (x^{(i)}_1, x^{(i)}_2, ..., x^{(i)}_m)$\n",
        "  - $n$ &mdash; загальна кількість навчальних прикладів\n",
        "  - $y^{(i)}$ &mdash; підготовлена мітка для $i$-го навчального прикладу (бінарна змінна), $y^{(i)} \\in \\{0,1\\}$\n",
        "\n",
        "Модель логістичної регресії можна інтерпретувати як дуже просту нейронну мережу, яка: \n",
        "\n",
        "- має вектор-рядок дійсних значень ваг $\\boldsymbol{W} = \\begin{bmatrix}\n",
        "w_1 & w_2 & \\cdots & w_m\n",
        "\\end{bmatrix}$\n",
        "- має дійсне значення зміщення $b$\n",
        "- використовує сигмоїду в якості активаційної функції"
      ]
    },
    {
      "cell_type": "markdown",
      "metadata": {
        "id": "5wtEFeieFmwI"
      },
      "source": [
        "# Навчання\n",
        "\n",
        "Ми можемо навчити модель, використовуючи градієнтний спуск. Фактично, **градієнтний спуск** або будь-який інший алгоритм оптимізації дозволяє знайти глобальний мінімум цільової функції (усередненої функції втрат на всьому навчальному наборі), якщо підбрано оптимальну швидкість навчання та виконано достатню кількість ітерацій навчання. \n",
        "\n",
        "Навчання моделі логістичної регресії має різні етапи. На початку (крок 0) ініціалізуються параметри моделі. Інші кроки повторюються протягом певної кількості епох (навчальних ітерацій). \n",
        "\n",
        "**Крок 0:** Ініціалізувати ваги та зсув (наприклад, випадковими значеннями з нормального розподілу)\n",
        "\n",
        "**Крок 1:** Обчислити лінійну комбінацію вхідних ознак та ваг, включаючи зсув.  Це можна зробити за один крок для всіх навчальних прикладів, використовуючи [векторизацію (vectorization)](https://www.geeksforgeeks.org/vectorization-in-python/) та  [тнансляцію (broadcasting)](https://www.geeksforgeeks.org/python-broadcasting-with-numpy-arrays/)\n",
        "\n",
        "$$z = W \\cdot X + b$$\n",
        "\n",
        "де $\\cdot$ скалярний добуток (поелементний добуток), $W$ &mdash;  вектор-рядок ваг з формою $(1, m)$, $X$ &mdash; матриця форми $(m, n)$.\n",
        "\n",
        "**Крок 2:** Застосувати нелінійну функцію активації (сигмоїду), яка поверне дійсне значення у проміжку між 0 та 1:\n",
        "\n",
        "$$\\hat y  = \\frac{1}{1 + \\exp(-z)}$$\n",
        "\n",
        "**Крок 3:** Обчислити усереднену втрату на всьому навчальному наборі даних. Функцію, яка визначає усереднені втрати на всьому навчальному наборі даних, часто називають цільовою функцією або імпіричним ризиком. Основна задача оптимізаційного алгоритму &mdash;  мінімізувати у процесі навчання цільову функцію на стільки, на скільки це можливо, не втрачаючи при цьому здатності моделі узагальнювати на нових даних. Для задач бінарної класифікації використовують бінарну перехресну втрату ентропії:\n",
        "\n",
        "$$\\mathcal{J}(\\hat y,y)  = - \\frac{1}{n} \\sum_{i=1}^n \\Big[ y^{(i)} \\log(\\hat{y}^{(i)}) + (1 - y^{(i)}) \\log(1 - \\hat{y}^{(i)}) \\Big]$$\n",
        "\n",
        "**Крок 4:** Розрахувати градієнти цільвої функції відносно ваг та зсуву:\n",
        "\n",
        "$$\\boxed{\\begin{aligned}\n",
        "\\frac{\\partial \\mathcal{J}(\\hat y, y)}{\\partial \\hat y} &= \\frac{1}{n} \\big [-\\frac{y}{\\hat y} + \\frac{1- y}{1 - \\hat y} \\big ] \\\\[12pt]\n",
        "\\frac{\\partial \\mathcal{J}(\\hat y, y)}{\\partial z} &= \\frac{\\partial \\mathcal{J}(\\hat y, y)}{\\partial \\hat y} \\frac{\\partial \\hat y}{\\partial z} = \\frac{1}{n} (\\hat y - y)  \\\\[12pt]\n",
        "\\frac{\\partial \\mathcal{J}(\\hat y, y)}{\\partial W} &= \\frac{\\partial \\mathcal{J}(\\hat y, y)}{\\partial \\hat y} \\frac{\\partial \\hat y}{\\partial z} \\frac{\\partial z}{\\partial W} = \\frac{1}{n} X^\\intercal \\cdot (\\hat y - y) \\\\[12pt]\n",
        "\\frac{\\partial \\mathcal{J}(\\hat y, y)}{\\partial b} &=  \\frac{\\partial \\mathcal{J}(\\hat y, y)}{\\partial \\hat y} \\frac{\\partial \\hat y}{\\partial z} \\frac{\\partial z}{\\partial b} = \\frac{1}{n} (\\hat y - y)\n",
        "\\end{aligned}}$$\n",
        "\n",
        "**Крок 5:** Оновити ваги та зсув:\n",
        "\n",
        "$$\\boxed{\\begin{aligned}\n",
        "W &= W - \\alpha \\frac{\\partial \\mathcal{L}(\\hat y, y)}{\\partial W} \\\\[12pt]\n",
        "b &= b - \\alpha \\frac{\\partial \\mathcal{L}(\\hat y, y)}{\\partial b}\n",
        "\\end{aligned}}$$\n",
        "\n",
        "де $\\alpha$ &mdash; швидкість навчання (крок навчання)."
      ]
    },
    {
      "cell_type": "markdown",
      "metadata": {
        "id": "WU31wxOL_iBb"
      },
      "source": [
        "# Імпортупвання бібліотек"
      ]
    },
    {
      "cell_type": "code",
      "metadata": {
        "id": "19xicNjUYyKR"
      },
      "source": [
        "import numpy as np # numerical python library for calculus\n",
        "from PIL import Image # image processing in python with Pillow\n",
        "import requests # library for obtaining the requested data from the specific server\n",
        "from matplotlib import pyplot as plt # library for creating static, animated, and interactive visualizations in Python\n",
        "np.random.seed(1) # makes the random numbers predictable"
      ],
      "execution_count": 256,
      "outputs": []
    },
    {
      "cell_type": "markdown",
      "metadata": {
        "id": "bRVwKii8_98N"
      },
      "source": [
        "## Зчитуєм зображення та перетворюємо його у NumPy масив "
      ]
    },
    {
      "cell_type": "code",
      "metadata": {
        "id": "m1UzCusBypep"
      },
      "source": [
        "image = Image.open(requests.get(\"https://docs.google.com/uc?export=download&id=1DGw_ekhE5uvyw8eq4UR6lEOlUqmM9bx6\", stream=True).raw)\n",
        "image_array = np.array(image)"
      ],
      "execution_count": 257,
      "outputs": []
    },
    {
      "cell_type": "markdown",
      "metadata": {
        "id": "Df9GYUGXBDH9"
      },
      "source": [
        "## Дивимось на зображення, яке зчитали"
      ]
    },
    {
      "cell_type": "code",
      "metadata": {
        "colab": {
          "base_uri": "https://localhost:8080/",
          "height": 212
        },
        "id": "y_eclhoHTp1F",
        "outputId": "0c3ca0cb-755c-45e5-9642-a42dc179a8d8"
      },
      "source": [
        "image"
      ],
      "execution_count": 258,
      "outputs": [
        {
          "output_type": "execute_result",
          "data": {
            "image/png": "[encoded data removed]",
            "text/plain": [
              "<PIL.JpegImagePlugin.JpegImageFile image mode=RGB size=258x195 at 0x7FB553A37450>"
            ]
          },
          "metadata": {},
          "execution_count": 258
        }
      ]
    },
    {
      "cell_type": "markdown",
      "metadata": {
        "id": "xFPFq5VoBQ6q"
      },
      "source": [
        "## Перевіряємо форму NumPy масуву для нашого зображення\n",
        "\n",
        "Зображення є кольоровим, тому маємо тривимірний масив: (висота, ширина, RGB)"
      ]
    },
    {
      "cell_type": "code",
      "metadata": {
        "colab": {
          "base_uri": "https://localhost:8080/"
        },
        "id": "8Lb3Og0QVmHV",
        "outputId": "6e6c3383-4114-4736-9268-575921c0c79b"
      },
      "source": [
        "image_array.shape"
      ],
      "execution_count": 259,
      "outputs": [
        {
          "output_type": "execute_result",
          "data": {
            "text/plain": [
              "(195, 258, 3)"
            ]
          },
          "metadata": {},
          "execution_count": 259
        }
      ]
    },
    {
      "cell_type": "markdown",
      "metadata": {
        "id": "sa69IODhCpae"
      },
      "source": [
        "# Конвертуємо зображення до чорно-білого\n",
        "\n",
        "Це дозволить зменшити у три рази кількість вхідних ознак, які будуть використовуватись для навчання логістичної регресії"
      ]
    },
    {
      "cell_type": "code",
      "metadata": {
        "id": "uT9Aj7tUVqEi"
      },
      "source": [
        "image_gray = image.convert('L')"
      ],
      "execution_count": 260,
      "outputs": []
    },
    {
      "cell_type": "code",
      "metadata": {
        "colab": {
          "base_uri": "https://localhost:8080/",
          "height": 212
        },
        "id": "iE9QN6orXAUG",
        "outputId": "e5f4fc63-e994-4292-fa9c-4ec990877667"
      },
      "source": [
        "image_gray"
      ],
      "execution_count": 261,
      "outputs": [
        {
          "output_type": "execute_result",
          "data": {
            "image/png": "[encoded data removed]",
            "text/plain": [
              "<PIL.Image.Image image mode=L size=258x195 at 0x7FB553A2B8D0>"
            ]
          },
          "metadata": {},
          "execution_count": 261
        }
      ]
    },
    {
      "cell_type": "markdown",
      "metadata": {
        "id": "duTYAySuDPwN"
      },
      "source": [
        "## Перетворюємо чорно-біле зображення у NumPy масив"
      ]
    },
    {
      "cell_type": "code",
      "metadata": {
        "id": "qhnstgVXWetz"
      },
      "source": [
        "image_gray_array = np.array(image_gray)"
      ],
      "execution_count": 262,
      "outputs": []
    },
    {
      "cell_type": "markdown",
      "metadata": {
        "id": "yMuiSVtBDb0G"
      },
      "source": [
        "## Дивимось на NumPy масив нашого чорно-білого зображення та перевіряємо його форму"
      ]
    },
    {
      "cell_type": "code",
      "metadata": {
        "colab": {
          "base_uri": "https://localhost:8080/"
        },
        "id": "cJxLXj5OW8hw",
        "outputId": "2ec5e8bb-d1e0-45d2-ca1f-be541b057c5a"
      },
      "source": [
        "image_gray_array"
      ],
      "execution_count": 263,
      "outputs": [
        {
          "output_type": "execute_result",
          "data": {
            "text/plain": [
              "array([[129, 132, 135, ...,   1,   1,   1],\n",
              "       [118, 120, 124, ...,   1,   1,   1],\n",
              "       [110, 112, 116, ...,   1,   1,   1],\n",
              "       ...,\n",
              "       [158, 141, 159, ..., 120, 122, 150],\n",
              "       [168, 150, 165, ..., 116, 126, 154],\n",
              "       [179, 160, 171, ..., 140, 147, 175]], dtype=uint8)"
            ]
          },
          "metadata": {},
          "execution_count": 263
        }
      ]
    },
    {
      "cell_type": "code",
      "metadata": {
        "colab": {
          "base_uri": "https://localhost:8080/"
        },
        "id": "zyflJEa6Wg3c",
        "outputId": "ef75f9f1-df56-45dd-d50b-c3e4d20dfabb"
      },
      "source": [
        "image_gray_array.shape"
      ],
      "execution_count": 264,
      "outputs": [
        {
          "output_type": "execute_result",
          "data": {
            "text/plain": [
              "(195, 258)"
            ]
          },
          "metadata": {},
          "execution_count": 264
        }
      ]
    },
    {
      "cell_type": "markdown",
      "metadata": {
        "id": "17y8uPZqDvvS"
      },
      "source": [
        "## Змінюємо форму NumPy масиву для чорно-білого зображення\n",
        "\n",
        "Маємо на вхід логістичній регресії подати вектор-стовпець ознак з формою (m, 1), де $m = \\text{висота зображення} * \\text{ширина зображення}$. У нашому випадку цими ознаками є кожен піксель зображення.\n"
      ]
    },
    {
      "cell_type": "code",
      "metadata": {
        "id": "oA93owXpYjtS"
      },
      "source": [
        "im_reshaped = np.reshape(image_gray_array, (image_gray_array.shape[0] * image_gray_array.shape[1], 1))"
      ],
      "execution_count": 265,
      "outputs": []
    },
    {
      "cell_type": "code",
      "metadata": {
        "colab": {
          "base_uri": "https://localhost:8080/"
        },
        "id": "Q_EYV_HYY3uk",
        "outputId": "e892b4bd-5bea-4b44-ff5c-f492ae43e401"
      },
      "source": [
        "im_reshaped.shape"
      ],
      "execution_count": 266,
      "outputs": [
        {
          "output_type": "execute_result",
          "data": {
            "text/plain": [
              "(50310, 1)"
            ]
          },
          "metadata": {},
          "execution_count": 266
        }
      ]
    },
    {
      "cell_type": "code",
      "metadata": {
        "colab": {
          "base_uri": "https://localhost:8080/"
        },
        "id": "qRpLX_4mZDSz",
        "outputId": "65cdb8af-e77b-41c9-baf5-8baed61ec155"
      },
      "source": [
        "im_reshaped"
      ],
      "execution_count": 267,
      "outputs": [
        {
          "output_type": "execute_result",
          "data": {
            "text/plain": [
              "array([[129],\n",
              "       [132],\n",
              "       [135],\n",
              "       ...,\n",
              "       [140],\n",
              "       [147],\n",
              "       [175]], dtype=uint8)"
            ]
          },
          "metadata": {},
          "execution_count": 267
        }
      ]
    },
    {
      "cell_type": "markdown",
      "metadata": {
        "id": "hmLbfJP5Gjb1"
      },
      "source": [
        "### Якщо необхідно, ми можемо переглянути зображення з NumPy масиву"
      ]
    },
    {
      "cell_type": "code",
      "metadata": {
        "id": "_ctW_wFP2xDx"
      },
      "source": [
        "im = Image.fromarray(image_gray_array)"
      ],
      "execution_count": 268,
      "outputs": []
    },
    {
      "cell_type": "code",
      "metadata": {
        "colab": {
          "base_uri": "https://localhost:8080/",
          "height": 212
        },
        "id": "k86OzWhB2cUe",
        "outputId": "269fa497-32e2-4441-8577-cfff8350c464"
      },
      "source": [
        "im"
      ],
      "execution_count": 269,
      "outputs": [
        {
          "output_type": "execute_result",
          "data": {
            "image/png": "[encoded data removed]",
            "text/plain": [
              "<PIL.Image.Image image mode=L size=258x195 at 0x7FB553A160D0>"
            ]
          },
          "metadata": {},
          "execution_count": 269
        }
      ]
    },
    {
      "cell_type": "markdown",
      "metadata": {
        "id": "dQOTCWu9ICC8"
      },
      "source": [
        "## Нормалізація пікселів зображення\n",
        "\n",
        "Основна мета нормалізації &mdash; зробити обчислення більш ефективними, шляхом масштабування значень пікселів зображення, які будуть лежати у діапазоні від 0 до 1. "
      ]
    },
    {
      "cell_type": "markdown",
      "metadata": {
        "id": "_xVf_uCqJICO"
      },
      "source": [
        "Знайдемо максимальне значення пікселя у нашому масиві"
      ]
    },
    {
      "cell_type": "code",
      "metadata": {
        "colab": {
          "base_uri": "https://localhost:8080/"
        },
        "id": "-ONX4rIKJAN0",
        "outputId": "98bfafdf-8fec-4f13-d2b5-4418e476d672"
      },
      "source": [
        "im_reshaped.max()"
      ],
      "execution_count": 270,
      "outputs": [
        {
          "output_type": "execute_result",
          "data": {
            "text/plain": [
              "255"
            ]
          },
          "metadata": {},
          "execution_count": 270
        }
      ]
    },
    {
      "cell_type": "markdown",
      "metadata": {
        "id": "e8wSHr_dJc0a"
      },
      "source": [
        "Поділими кожне значення пікселя у масиві на максимальне значення"
      ]
    },
    {
      "cell_type": "code",
      "metadata": {
        "id": "L-tC4uOjjezv"
      },
      "source": [
        "norm = im_reshaped / 255.0"
      ],
      "execution_count": 271,
      "outputs": []
    },
    {
      "cell_type": "code",
      "metadata": {
        "colab": {
          "base_uri": "https://localhost:8080/"
        },
        "id": "jVhGegk3jkRl",
        "outputId": "2b5c2130-8639-4376-c105-2cb8fb9ac195"
      },
      "source": [
        "norm"
      ],
      "execution_count": 272,
      "outputs": [
        {
          "output_type": "execute_result",
          "data": {
            "text/plain": [
              "array([[0.50588235],\n",
              "       [0.51764706],\n",
              "       [0.52941176],\n",
              "       ...,\n",
              "       [0.54901961],\n",
              "       [0.57647059],\n",
              "       [0.68627451]])"
            ]
          },
          "metadata": {},
          "execution_count": 272
        }
      ]
    },
    {
      "cell_type": "markdown",
      "metadata": {
        "id": "ZPLwu0rWaCeJ"
      },
      "source": [
        "---\n",
        "# Завдання\n",
        "\n",
        "Розглянемо задачу бінарної класифікації зображень: кіт (1) або собака (0). Оскільки зображення, яке ми будемо використовувати у яксості навчального прикладу для лінійної регресії містисть собаку, створимо відповідну мітку:"
      ]
    },
    {
      "cell_type": "code",
      "metadata": {
        "id": "7XrMhj_baq97"
      },
      "source": [
        "y_true = np.array([[0]])"
      ],
      "execution_count": 273,
      "outputs": []
    },
    {
      "cell_type": "code",
      "metadata": {
        "colab": {
          "base_uri": "https://localhost:8080/"
        },
        "id": "Dhi_dqeka3-k",
        "outputId": "faf571f8-2eae-4980-df27-79875337442e"
      },
      "source": [
        "y_true.shape"
      ],
      "execution_count": 274,
      "outputs": [
        {
          "output_type": "execute_result",
          "data": {
            "text/plain": [
              "(1, 1)"
            ]
          },
          "metadata": {},
          "execution_count": 274
        }
      ]
    },
    {
      "cell_type": "markdown",
      "metadata": {
        "id": "Qpq48noEKJgY"
      },
      "source": [
        "### Крок 0: Ініціалізувати ваги та зсув"
      ]
    },
    {
      "cell_type": "code",
      "metadata": {
        "id": "bfkqaTCL27hF"
      },
      "source": [
        "# TODO\n",
        "def parameters_inititalization():\n",
        "  \"\"\"\n",
        "  Ця функція ініціалізує вектор-рядок випадкових дійсних значень ваг форми (1, 50310), отриманих з нормального розподілу та зсув (довільне дійсне значення)\n",
        "\n",
        "  Повертає:\n",
        "  W -- вектор-рядок ваг форми (1, 50310)\n",
        "  b -- зсув (скаляр)\n",
        "  \"\"\"\n",
        "  W = np.zeros((50310, 1))\n",
        "  b = 0 \n",
        "\n",
        "  # BEGIN_YOUR_CODE     \n",
        "  return W, b\n",
        "  # END_YOUR_CODE"
      ],
      "execution_count": 297,
      "outputs": []
    },
    {
      "cell_type": "code",
      "metadata": {
        "id": "Cjoi0Pi0eIl9"
      },
      "source": [
        "W, b = parameters_inititalization()"
      ],
      "execution_count": 276,
      "outputs": []
    },
    {
      "cell_type": "code",
      "metadata": {
        "id": "Z_nNfaRGdLGO",
        "colab": {
          "base_uri": "https://localhost:8080/"
        },
        "outputId": "69ea67fa-7631-4505-992c-096245279508"
      },
      "source": [
        "W"
      ],
      "execution_count": 277,
      "outputs": [
        {
          "output_type": "execute_result",
          "data": {
            "text/plain": [
              "array([[0.],\n",
              "       [0.],\n",
              "       [0.],\n",
              "       ...,\n",
              "       [0.],\n",
              "       [0.],\n",
              "       [0.]])"
            ]
          },
          "metadata": {},
          "execution_count": 277
        }
      ]
    },
    {
      "cell_type": "code",
      "metadata": {
        "id": "AVUfQgU3dRoj",
        "colab": {
          "base_uri": "https://localhost:8080/"
        },
        "outputId": "cd8c674a-2abc-483a-bc32-032d1cb9ab54"
      },
      "source": [
        "W.shape"
      ],
      "execution_count": 278,
      "outputs": [
        {
          "output_type": "execute_result",
          "data": {
            "text/plain": [
              "(50310, 1)"
            ]
          },
          "metadata": {},
          "execution_count": 278
        }
      ]
    },
    {
      "cell_type": "code",
      "metadata": {
        "colab": {
          "base_uri": "https://localhost:8080/"
        },
        "id": "PGyt_i05dT_r",
        "outputId": "be890544-f124-479f-8e6f-723817564b26"
      },
      "source": [
        "b"
      ],
      "execution_count": 279,
      "outputs": [
        {
          "output_type": "execute_result",
          "data": {
            "text/plain": [
              "1"
            ]
          },
          "metadata": {},
          "execution_count": 279
        }
      ]
    },
    {
      "cell_type": "markdown",
      "metadata": {
        "id": "SMLPcw7gNZ1d"
      },
      "source": [
        "### Крок 1: Обчислити лінійну комбінацію вхідних ознак та ваг, включаючи зсув\n",
        "\n",
        "### Крок 2: Застосувати нелінійну функцію активації (сигмоїду) до отриманого значення з крок 1"
      ]
    },
    {
      "cell_type": "code",
      "metadata": {
        "id": "sHg5Sh8bdV3J"
      },
      "source": [
        "# TODO\n",
        "def forwardPropagate(X, W, b):\n",
        "  \"\"\"\n",
        "  Ця функція обчислює лінійну комбінацію вхідних ознак та ваг, включаючи зсув і знаходить активаційне значення сигмоїди\n",
        "\n",
        "  Параметри:\n",
        "  X -- вхідний вектор стовпець (у нашому випадку - це чорнобіле зображення собаки) форми (50310, 1)\n",
        "  W -- вектор-рядок ваг моделі форми (1, 50310)\n",
        "  b -- зсув моделі (скаляр)\n",
        "\n",
        "  Повертає:\n",
        "  z -- загальна зважена сума вхідних ознак, включаючи зсув\n",
        "  y_hat -- активаційне значення сигмоїди\n",
        "  \"\"\"\n",
        "  \n",
        "  # BEGIN_YOUR_CODE\n",
        "  z = np.dot(W.T, X) + b  \n",
        "  y_hat = 1 / (1 + np.exp(-z))\n",
        "  return z, y_hat\n",
        "  # END_YOUR_CODE"
      ],
      "execution_count": 299,
      "outputs": []
    },
    {
      "cell_type": "code",
      "metadata": {
        "id": "94IMy1_2dfuQ"
      },
      "source": [
        "z, y_hat = forwardPropagate(norm, W, b)"
      ],
      "execution_count": 281,
      "outputs": []
    },
    {
      "cell_type": "code",
      "metadata": {
        "id": "JF67K5RJiEux",
        "colab": {
          "base_uri": "https://localhost:8080/"
        },
        "outputId": "b284baf7-a1f9-4f00-be42-d31cef0a3202"
      },
      "source": [
        "z"
      ],
      "execution_count": 282,
      "outputs": [
        {
          "output_type": "execute_result",
          "data": {
            "text/plain": [
              "array([[1.]])"
            ]
          },
          "metadata": {},
          "execution_count": 282
        }
      ]
    },
    {
      "cell_type": "code",
      "metadata": {
        "id": "8urwc6qKiFQQ",
        "colab": {
          "base_uri": "https://localhost:8080/"
        },
        "outputId": "9774c24d-96f4-48e5-bfa3-cb3a44d546a3"
      },
      "source": [
        "y_hat"
      ],
      "execution_count": 283,
      "outputs": [
        {
          "output_type": "execute_result",
          "data": {
            "text/plain": [
              "array([[0.11920292]])"
            ]
          },
          "metadata": {},
          "execution_count": 283
        }
      ]
    },
    {
      "cell_type": "markdown",
      "metadata": {
        "id": "I1L7RqCHOShJ"
      },
      "source": [
        "### Крок 3: Обчислити усереднену втрату на всьому навчальному наборі даних. Цільова функція\n",
        "\n",
        "У нашому випадку ми розглядаємо пряме та зворотне поширення для одного навчального прикладу (зображення)."
      ]
    },
    {
      "cell_type": "code",
      "metadata": {
        "id": "YM5DZaGIl-ei"
      },
      "source": [
        "# TODO\n",
        "def cost(n, y_hat, y_true):\n",
        "  \"\"\"\n",
        "  Ця функція обчислює усереднену втрату для задачі бінарної класифікації на всьому навчальному наборі даних\n",
        "\n",
        "  Параметри:\n",
        "  n -- загальна кількість навчальних прикладів (у нашому випадку - це  одне чорнобіле зображення собаки)\n",
        "  y_hat -- активаційне значення сигмоїди (прогноз логістичної регресії)\n",
        "  y_true -- істинний клас зображення (очікувана мітка прогнозу)\n",
        "\n",
        "  Повертає:\n",
        "  J --  усереднена втрата моделі для задачі бінарної класифікації на всьому навчальному наборі даних\n",
        "  \"\"\"\n",
        "\n",
        "  # BEGIN_YOUR_CODE\n",
        "  mult = np.multiply(y_true, np.log(y_hat)) + np.multiply((1 - y_true), np.log(1 - y_hat))\n",
        "  J = - np.sum(mult) / n\n",
        "  return J    \n",
        "  # END_YOUR_CODE"
      ],
      "execution_count": 284,
      "outputs": []
    },
    {
      "cell_type": "code",
      "metadata": {
        "id": "GVuroIbum_4L",
        "colab": {
          "base_uri": "https://localhost:8080/"
        },
        "outputId": "7bbd0b9a-effe-4964-e928-1e9e8249e4df"
      },
      "source": [
        "J = cost(1, y_hat, y_true)\n",
        "J"
      ],
      "execution_count": 285,
      "outputs": [
        {
          "output_type": "execute_result",
          "data": {
            "text/plain": [
              "0.12692801104297252"
            ]
          },
          "metadata": {},
          "execution_count": 285
        }
      ]
    },
    {
      "cell_type": "markdown",
      "metadata": {
        "id": "bapG8TtdP4gK"
      },
      "source": [
        "### Крок 4: Розрахувати градієнти цільвої функції відносно ваг та зсуву"
      ]
    },
    {
      "cell_type": "code",
      "metadata": {
        "id": "9K-Vn0mpiGng"
      },
      "source": [
        "# TODO\n",
        "def backwardPropagate(n, X, y_hat, y_true):\n",
        "  \"\"\"\n",
        "  Ця функція обчислює градієнти цільвої функції відносно ваг та зсуву\n",
        "\n",
        "  Параметри:\n",
        "  n -- загальна кількість навчальних прикладів (у нашому випадку - це  одне чорнобіле зображення собаки)\n",
        "  X -- вхідний вектор стовпець (у нашому випадку - це чорнобіле зображення собаки) форми (50310, 1)\n",
        "  y_hat -- активаційне значення сигмоїди (прогноз логістичної регресії)\n",
        "  y_true -- істинний клас зображення (очікувана мітка прогнозу)\n",
        "\n",
        "  Повертає:\n",
        "  dW --  градієнт цільової функції відносно ваг моделі\n",
        "  db -- градієнт цільової функції відносно зсуву моделі\n",
        "  \"\"\"\n",
        "\n",
        "  # BEGIN_YOUR_CODE     \n",
        "  dW = np.dot(X, (y_hat - y_true).T) / n\n",
        "  db = np.sum((y_hat - y_true)) / n\n",
        "  return dW, db\n",
        "  # END_YOUR_CODE"
      ],
      "execution_count": 286,
      "outputs": []
    },
    {
      "cell_type": "code",
      "metadata": {
        "id": "VirkpmD0o-1Q"
      },
      "source": [
        "dW, db = backwardPropagate(1, norm, y_hat, y_true)"
      ],
      "execution_count": 287,
      "outputs": []
    },
    {
      "cell_type": "code",
      "metadata": {
        "id": "aLjgo0GdpMx0",
        "colab": {
          "base_uri": "https://localhost:8080/"
        },
        "outputId": "54e209f7-9d70-45cb-d0af-f870d4b6794c"
      },
      "source": [
        "dW.shape"
      ],
      "execution_count": 288,
      "outputs": [
        {
          "output_type": "execute_result",
          "data": {
            "text/plain": [
              "(50310, 1)"
            ]
          },
          "metadata": {},
          "execution_count": 288
        }
      ]
    },
    {
      "cell_type": "code",
      "metadata": {
        "id": "8ZBTCeXdqFJA",
        "colab": {
          "base_uri": "https://localhost:8080/"
        },
        "outputId": "b6a67cc1-6620-415e-e568-b739bbec8ac2"
      },
      "source": [
        "db"
      ],
      "execution_count": 289,
      "outputs": [
        {
          "output_type": "execute_result",
          "data": {
            "text/plain": [
              "0.11920292202211755"
            ]
          },
          "metadata": {},
          "execution_count": 289
        }
      ]
    },
    {
      "cell_type": "code",
      "metadata": {
        "id": "DAkVSaLesD_8",
        "colab": {
          "base_uri": "https://localhost:8080/"
        },
        "outputId": "2f9c867a-3c10-47e4-e935-29827a81d186"
      },
      "source": [
        "db.shape"
      ],
      "execution_count": 290,
      "outputs": [
        {
          "output_type": "execute_result",
          "data": {
            "text/plain": [
              "()"
            ]
          },
          "metadata": {},
          "execution_count": 290
        }
      ]
    },
    {
      "cell_type": "markdown",
      "metadata": {
        "id": "7wzrFBQPSfL5"
      },
      "source": [
        "### Крок 5: Оновити ваги та зсув"
      ]
    },
    {
      "cell_type": "code",
      "metadata": {
        "id": "SwacLBbFsKHZ"
      },
      "source": [
        "# TODO\n",
        "def update(alpha, dW, db, W, b):\n",
        "  \"\"\"\n",
        "  Ця функція оновлює навчальні параметри моделі (ваги та зсув ) у напрямку мінімізації цільової функції\n",
        "\n",
        "  Параметри:\n",
        "  alpha -- швидкість  навчання (крок навчання)\n",
        "  dW --  градієнт цільової функції відносно ваг моделі\n",
        "  db -- градієнт цільової функції відносно зсуву моделі\n",
        "  W -- вектор-рядок ваг моделі форми (1, 50310)\n",
        "  b -- зсув моделі (скаляр)\n",
        "\n",
        "  Повертає:\n",
        "  W -- оновлений вектор-рядок ваг моделі форми (1, 50310)\n",
        "  b -- оновлений зсув моделі (скаляр)\n",
        "  \"\"\"\n",
        "\n",
        "\n",
        "  # BEGIN_YOUR_CODE     \n",
        "  W = W - alpha * dW\n",
        "  b = b - alpha * db \n",
        "  return W, b\n",
        "  # END_YOUR_CODE"
      ],
      "execution_count": 291,
      "outputs": []
    },
    {
      "cell_type": "code",
      "metadata": {
        "id": "7f-dOng9tKRy"
      },
      "source": [
        "W, b = update(0.003, dW, db, W, b)"
      ],
      "execution_count": 312,
      "outputs": []
    },
    {
      "cell_type": "code",
      "metadata": {
        "id": "X681Y8JatVAi",
        "colab": {
          "base_uri": "https://localhost:8080/"
        },
        "outputId": "1a14ab36-3775-4d85-9f00-df3444421b4f"
      },
      "source": [
        "W"
      ],
      "execution_count": 293,
      "outputs": [
        {
          "output_type": "execute_result",
          "data": {
            "text/plain": [
              "array([[-0.00018091],\n",
              "       [-0.00018512],\n",
              "       [-0.00018932],\n",
              "       ...,\n",
              "       [-0.00019633],\n",
              "       [-0.00020615],\n",
              "       [-0.00024542]])"
            ]
          },
          "metadata": {},
          "execution_count": 293
        }
      ]
    },
    {
      "cell_type": "code",
      "metadata": {
        "id": "oWrWtkXhtWl4",
        "colab": {
          "base_uri": "https://localhost:8080/"
        },
        "outputId": "9bc32d6b-4344-4813-acb1-c1328076e996"
      },
      "source": [
        "b"
      ],
      "execution_count": 294,
      "outputs": [
        {
          "output_type": "execute_result",
          "data": {
            "text/plain": [
              "0.9996423912339336"
            ]
          },
          "metadata": {},
          "execution_count": 294
        }
      ]
    },
    {
      "cell_type": "markdown",
      "metadata": {
        "id": "SwXQUYwaXwic"
      },
      "source": [
        "\n",
        "\n",
        "1.   Повторіть кроки 1-5 та з'ясуйте як зміниться значення цільової функції, ваг та зсуву моделі. Швидкість навчання використовуйте alpha = 0.0001\n",
        "2.   Повторіть кроки 0-5 для більшої швидкості навчання alpha = 0.003. Порівняйте отримані результати для alpha = 0.0001\n",
        "\n"
      ]
    },
    {
      "cell_type": "code",
      "metadata": {
        "colab": {
          "base_uri": "https://localhost:8080/"
        },
        "id": "jcLQ_79cYBuW",
        "outputId": "0454c263-5b63-4d18-f986-8567be4d16bb"
      },
      "source": [
        "def testing():\n",
        "  W, b = parameters_inititalization()\n",
        "  for i in range(100):\n",
        "    z, y_hat = forwardPropagate(norm, W, b)\n",
        "    J = cost(1, y_hat, y_true)\n",
        "    dW, db = backwardPropagate(1, norm, y_hat, y_true)\n",
        "    W, b = update(0.003, dW, db, W, b)\n",
        "    print(b)\n",
        "testing()"
      ],
      "execution_count": 313,
      "outputs": [
        {
          "output_type": "stream",
          "name": "stdout",
          "text": [
            "-0.0015\n",
            "-0.0015000002065142049\n",
            "-0.0015000004130279409\n",
            "-0.0015000006195412079\n",
            "-0.001500000826054006\n",
            "-0.0015000010325663354\n",
            "-0.0015000012390781958\n",
            "-0.0015000014455895873\n",
            "-0.00150000165210051\n",
            "-0.0015000018586109637\n",
            "-0.0015000020651209486\n",
            "-0.0015000022716304647\n",
            "-0.001500002478139512\n",
            "-0.0015000026846480902\n",
            "-0.0015000028911561997\n",
            "-0.0015000030976638403\n",
            "-0.0015000033041710121\n",
            "-0.0015000035106777151\n",
            "-0.0015000037171839491\n",
            "-0.0015000039236897143\n",
            "-0.0015000041301950107\n",
            "-0.0015000043366998382\n",
            "-0.001500004543204197\n",
            "-0.0015000047497080867\n",
            "-0.0015000049562115076\n",
            "-0.0015000051627144597\n",
            "-0.001500005369216943\n",
            "-0.0015000055757189575\n",
            "-0.0015000057822205032\n",
            "-0.00150000598872158\n",
            "-0.0015000061952221882\n",
            "-0.0015000064017223274\n",
            "-0.0015000066082219976\n",
            "-0.001500006814721199\n",
            "-0.0015000070212199317\n",
            "-0.0015000072277181955\n",
            "-0.0015000074342159905\n",
            "-0.0015000076407133166\n",
            "-0.001500007847210174\n",
            "-0.0015000080537065626\n",
            "-0.0015000082602024823\n",
            "-0.0015000084666979333\n",
            "-0.0015000086731929154\n",
            "-0.0015000088796874287\n",
            "-0.0015000090861814733\n",
            "-0.0015000092926750492\n",
            "-0.0015000094991681563\n",
            "-0.0015000097056607946\n",
            "-0.0015000099121529641\n",
            "-0.0015000101186446648\n",
            "-0.0015000103251358967\n",
            "-0.0015000105316266598\n",
            "-0.001500010738116954\n",
            "-0.0015000109446067795\n",
            "-0.0015000111510961361\n",
            "-0.0015000113575850242\n",
            "-0.0015000115640734434\n",
            "-0.0015000117705613939\n",
            "-0.0015000119770488755\n",
            "-0.0015000121835358883\n",
            "-0.0015000123900224325\n",
            "-0.001500012596508508\n",
            "-0.0015000128029941146\n",
            "-0.0015000130094792524\n",
            "-0.0015000132159639216\n",
            "-0.001500013422448122\n",
            "-0.0015000136289318536\n",
            "-0.0015000138354151163\n",
            "-0.0015000140418979105\n",
            "-0.001500014248380236\n",
            "-0.0015000144548620925\n",
            "-0.0015000146613434804\n",
            "-0.0015000148678243996\n",
            "-0.00150001507430485\n",
            "-0.0015000152807848317\n",
            "-0.0015000154872643447\n",
            "-0.0015000156937433888\n",
            "-0.0015000159002219644\n",
            "-0.0015000161067000712\n",
            "-0.001500016313177709\n",
            "-0.0015000165196548784\n",
            "-0.001500016726131579\n",
            "-0.001500016932607811\n",
            "-0.001500017139083574\n",
            "-0.0015000173455588686\n",
            "-0.0015000175520336943\n",
            "-0.0015000177585080513\n",
            "-0.0015000179649819396\n",
            "-0.0015000181714553591\n",
            "-0.00150001837792831\n",
            "-0.0015000185844007922\n",
            "-0.0015000187908728057\n",
            "-0.0015000189973443504\n",
            "-0.0015000192038154266\n",
            "-0.001500019410286034\n",
            "-0.0015000196167561728\n",
            "-0.001500019823225843\n",
            "-0.0015000200296950443\n",
            "-0.001500020236163777\n",
            "-0.001500020442632041\n"
          ]
        }
      ]
    }
  ]
}